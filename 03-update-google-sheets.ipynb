{
 "cells": [
  {
   "cell_type": "code",
   "execution_count": 22,
   "id": "1763b658-6e31-4a48-a37e-1b2bf91ac1c4",
   "metadata": {},
   "outputs": [],
   "source": [
    "from google.oauth2.service_account import Credentials\n",
    "import gspread\n",
    "import pandas as pd"
   ]
  },
  {
   "cell_type": "code",
   "execution_count": 55,
   "id": "25eb4b5e-a353-40fb-ab55-bd25fcb81dcc",
   "metadata": {},
   "outputs": [],
   "source": [
    "def prepare_data(metrics):\n",
    "    # Ensure all numbers are floats, as JSON transmission does not support integers\n",
    "    # The first column is assumed to be the month and is left as an object/string\n",
    "    metrics.iloc[:, 1:] = metrics.iloc[:, 1:].astype(float)\n",
    "    \n",
    "    # NaNs are not supported, and must be replaced with Python Nones first. That\n",
    "    # requires a cast to object first.\n",
    "    metrics = metrics.astype(object).where(metrics.notna(), None)\n",
    "    \n",
    "    return metrics\n",
    "\n",
    "def load(metrics_file):\n",
    "    metrics = pd.read_csv(metrics_file, sep=\"\\t\")\n",
    "    return metrics.pipe(prepare_data)\n",
    "\n",
    "def append_last_row(metrics, worksheet):\n",
    "    last_row = metrics.iloc[-1].to_list()\n",
    "    \n",
    "    worksheet.append_row(last_row, value_input_option=\"USER_ENTERED\")\n",
    "    \n",
    "\n",
    "scope = ['https://spreadsheets.google.com/feeds',\n",
    "         'https://www.googleapis.com/auth/drive']\n",
    "\n",
    "credentials = Credentials.from_service_account_file(\n",
    "    'movement-metrics-update-44bf6702290d.json',\n",
    "    scopes=scope\n",
    ")\n",
    "\n",
    "gc = gspread.authorize(credentials)"
   ]
  },
  {
   "cell_type": "markdown",
   "id": "012114c7-3888-4db4-a602-7da29ae6c3f0",
   "metadata": {},
   "source": [
    "## Update editors sheet"
   ]
  },
  {
   "cell_type": "markdown",
   "id": "8837cd6a-a0d0-42f9-bf09-0f0637cec93f",
   "metadata": {},
   "source": [
    "This section updates the metrics in the [\"Editors and content key product metrics\" Google spreadsheet](https://docs.google.com/spreadsheets/d/1wfTtHjQP9Kj0WME15ESJ-4dSMGMpbtY8qOuDVcwZovQ/)."
   ]
  },
  {
   "cell_type": "code",
   "execution_count": 51,
   "id": "fa4ef5d5-5402-4e9c-9540-a4df1dc2c2d7",
   "metadata": {},
   "outputs": [],
   "source": [
    "editing_metrics = load(\"metrics/editing_metrics.tsv\")\n",
    "editing_diversity_metrics = load(\"metrics/editing_diversity_metrics.tsv\")\n",
    "\n",
    "spreadsheet = gc.open_by_key(\"1wfTtHjQP9Kj0WME15ESJ-4dSMGMpbtY8qOuDVcwZovQ\")"
   ]
  },
  {
   "cell_type": "code",
   "execution_count": 46,
   "id": "7a31cc93-3fd6-4372-bf3d-8bc6acd9fdd0",
   "metadata": {},
   "outputs": [],
   "source": [
    "wks1 = spreadsheet.get_worksheet(0)\n",
    "to_add = editing_metrics.iloc[:,[0, 1, 2, 7, 8, 9, 10, 11, 12, 13, 14, 15, 16, 17, 18, 19, 20]]\n",
    "append_last_row(to_add, wks1)"
   ]
  },
  {
   "cell_type": "code",
   "execution_count": 43,
   "id": "e8080650-669e-4ae9-8918-56afbc98c715",
   "metadata": {
    "tags": []
   },
   "outputs": [],
   "source": [
    "wks2 = spreadsheet.get_worksheet(1)\n",
    "append_last_row(editing_diversity_metrics, wks2)"
   ]
  },
  {
   "cell_type": "code",
   "execution_count": 56,
   "id": "3e7f0f9c-02bf-4eb7-ba5b-8ce21b410198",
   "metadata": {},
   "outputs": [],
   "source": [
    "wks3 = spreadsheet.get_worksheet(2)\n",
    "mh_metrics = editing_metrics.iloc[:,[0, 3, 4, 5, 6]]\n",
    "append_last_row(mh_metrics, wks3)"
   ]
  },
  {
   "cell_type": "markdown",
   "id": "03c6dbd9-5f65-4f7e-88ab-787240020e8f",
   "metadata": {},
   "source": [
    "## Update readers sheet"
   ]
  },
  {
   "cell_type": "markdown",
   "id": "054cdee2-548c-45c0-a5d5-27fe5b7c7b55",
   "metadata": {},
   "source": [
    "This section updates the metrics in the [\"Readers key product metrics\" Google spreadsheet](https://docs.google.com/spreadsheets/d/1mK-R8qWzKjSeHMBBek9sJsbecdic9s3r28OIW7QkqrE/)."
   ]
  },
  {
   "cell_type": "code",
   "execution_count": 26,
   "id": "51858512-11e9-45e6-b48c-b54f95e110ce",
   "metadata": {},
   "outputs": [],
   "source": [
    "readers_metrics = load(\"metrics/readers_metrics.tsv\")\n",
    "readers_diversity_metrics = load(\"metrics/readers_diversity_metrics.tsv\")\n",
    "\n",
    "spreadsheet = gc.open_by_key(\"1mK-R8qWzKjSeHMBBek9sJsbecdic9s3r28OIW7QkqrE\")"
   ]
  },
  {
   "cell_type": "code",
   "execution_count": 27,
   "id": "d387538d-45b4-4b26-8b18-b9eff2c0c471",
   "metadata": {},
   "outputs": [],
   "source": [
    "wks1 = spreadsheet.get_worksheet(0)\n",
    "to_add = readers_metrics.iloc[:, [0, 1, 2, 3, 4, 5, 6, 7]]\n",
    "append_last_row(to_add, wks1)"
   ]
  },
  {
   "cell_type": "code",
   "execution_count": 28,
   "id": "4b14c9bc-85c1-4e03-95a2-982378c2a9e1",
   "metadata": {},
   "outputs": [],
   "source": [
    "wks2 = spreadsheet.get_worksheet(1)\n",
    "append_last_row(readers_diversity_metrics, wks2)"
   ]
  },
  {
   "cell_type": "code",
   "execution_count": null,
   "id": "f9282786-1f9a-4f23-8953-4c03aaf4fd6a",
   "metadata": {},
   "outputs": [],
   "source": []
  }
 ],
 "metadata": {
  "kernelspec": {
   "display_name": "Python 3 (ipykernel)",
   "language": "python",
   "name": "python3"
  },
  "language_info": {
   "codemirror_mode": {
    "name": "ipython",
    "version": 3
   },
   "file_extension": ".py",
   "mimetype": "text/x-python",
   "name": "python",
   "nbconvert_exporter": "python",
   "pygments_lexer": "ipython3",
   "version": "3.8.12"
  }
 },
 "nbformat": 4,
 "nbformat_minor": 5
}
