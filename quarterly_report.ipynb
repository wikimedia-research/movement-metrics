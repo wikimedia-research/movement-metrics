{
 "cells": [
  {
   "cell_type": "markdown",
   "id": "55ef4719-3150-4ae1-b009-242c6258b71e",
   "metadata": {},
   "source": [
    "This notebook computes a quarterly report on core metrics."
   ]
  },
  {
   "cell_type": "code",
   "execution_count": 6,
   "id": "75d0b998-0eec-4f59-9cff-8338fe2af94c",
   "metadata": {},
   "outputs": [],
   "source": [
    "import numpy as np\n",
    "import pandas as pd\n",
    "import src.content as content\n",
    "\n",
    "import src.utils as utils"
   ]
  },
  {
   "cell_type": "code",
   "execution_count": 7,
   "id": "5e3a6a82-67c4-4ac6-b2f7-68de70beafc8",
   "metadata": {},
   "outputs": [],
   "source": [
    "metrics = utils.load_all_metric_files()"
   ]
  },
  {
   "cell_type": "markdown",
   "id": "285a537a-c804-4b7b-828b-5284cb433bb8",
   "metadata": {},
   "source": [
    "To Pandas, \"Q-JUN\" means quarters in a year ending in June and \"2023Q4\" means Q4 in the 2022-23 fiscal year, _not_ in the 2023-24 fiscal year. This is consistent with the guidance on [officewiki:Quarters](https://office.wikimedia.org/wiki/Quarters)."
   ]
  },
  {
   "cell_type": "code",
   "execution_count": 4,
   "id": "8d268536-5061-441d-adf0-a754c5bf74aa",
   "metadata": {},
   "outputs": [],
   "source": [
    "# Pad the ends of the metrics with months to ensure that only full quarters are represented.\n",
    "# This way, when we resample to quarterly averages, we can get null values for quarters where\n",
    "# some months have null data.\n",
    "first_quarter = metrics.index[0].asfreq(\"Q-JUN\")\n",
    "last_quarter = metrics.index[-1].asfreq(\"Q-JUN\")\n",
    "new_index = pd.period_range(first_quarter.start_time, last_quarter.end_time, freq=\"M\")\n",
    "\n",
    "quarterly_averages = (\n",
    "    metrics\n",
    "    .reindex(new_index)\n",
    "    .resample(\"Q-JUN\")\n",
    "    .aggregate(\n",
    "        # We need the lambda function because a plain \"mean\" would get translated\n",
    "        # into PeriodIndexResampler.mean, which has no option to retain NaNs (which\n",
    "        # allows us to report NaNs rather than misleading quarterly values based\n",
    "        # on partial data)\n",
    "        lambda x: x.mean(skipna=False)\n",
    "    )\n",
    ")\n",
    "\n",
    "# This automatically picks the latest quarter with at least a month of data as the\n",
    "# reporting period but you can replace the line to manually specify any period you choose.\n",
    "# For example: `quarter_to_report = pd.Period(\"2023Q4\", freq=\"Q-JUN\")`\n",
    "quarter_to_report = quarterly_averages.index[-1]"
   ]
  },
  {
   "cell_type": "markdown",
   "id": "a25ced81-51f2-4318-99a2-7fb70ef2fdaf",
   "metadata": {},
   "source": [
    "If the table is missing values, it's likely that some data is missing (such as the data for the last month in the quarter). Check the data files in the \"data\" directory to investigate."
   ]
  },
  {
   "cell_type": "code",
   "execution_count": 17,
   "id": "9ce60537-2575-4fca-b9df-340041200237",
   "metadata": {},
   "outputs": [
    {
     "data": {
      "text/html": [
       "<style type=\"text/css\">\n",
       "#T_385a1 th.col_heading.level0 {\n",
       "  font-size: 1.5em;\n",
       "  text-align: center;\n",
       "  font-weight: bold;\n",
       "}\n",
       "</style>\n",
       "<table id=\"T_385a1\">\n",
       "  <thead>\n",
       "    <tr>\n",
       "      <th class=\"blank level0\" >&nbsp;</th>\n",
       "      <th id=\"T_385a1_level0_col0\" class=\"col_heading level0 col0\" colspan=\"3\">2024Q1 core metrics</th>\n",
       "    </tr>\n",
       "    <tr>\n",
       "      <th class=\"blank level1\" >&nbsp;</th>\n",
       "      <th id=\"T_385a1_level1_col0\" class=\"col_heading level1 col0\" >value</th>\n",
       "      <th id=\"T_385a1_level1_col1\" class=\"col_heading level1 col1\" >year_over_year_change</th>\n",
       "      <th id=\"T_385a1_level1_col2\" class=\"col_heading level1 col2\" >naive_forecast</th>\n",
       "    </tr>\n",
       "  </thead>\n",
       "  <tbody>\n",
       "    <tr>\n",
       "      <th id=\"T_385a1_level0_row0\" class=\"row_heading level0 row0\" >unique_devices</th>\n",
       "      <td id=\"T_385a1_row0_col0\" class=\"data row0 col0\" >1.53 B</td>\n",
       "      <td id=\"T_385a1_row0_col1\" class=\"data row0 col1\" >-0.1%</td>\n",
       "      <td id=\"T_385a1_row0_col2\" class=\"data row0 col2\" >1.62 B</td>\n",
       "    </tr>\n",
       "    <tr>\n",
       "      <th id=\"T_385a1_level0_row1\" class=\"row_heading level0 row1\" >south_asia_unique_devices</th>\n",
       "      <td id=\"T_385a1_row1_col0\" class=\"data row1 col0\" >160.0 M</td>\n",
       "      <td id=\"T_385a1_row1_col1\" class=\"data row1 col1\" >5.8%</td>\n",
       "      <td id=\"T_385a1_row1_col2\" class=\"data row1 col2\" >156.0 M</td>\n",
       "    </tr>\n",
       "    <tr>\n",
       "      <th id=\"T_385a1_level0_row2\" class=\"row_heading level0 row2\" >latin_america_caribbean_unique_devices</th>\n",
       "      <td id=\"T_385a1_row2_col0\" class=\"data row2 col0\" >136.0 M</td>\n",
       "      <td id=\"T_385a1_row2_col1\" class=\"data row2 col1\" >-8.6%</td>\n",
       "      <td id=\"T_385a1_row2_col2\" class=\"data row2 col2\" >145.0 M</td>\n",
       "    </tr>\n",
       "    <tr>\n",
       "      <th id=\"T_385a1_level0_row3\" class=\"row_heading level0 row3\" >north_america_unique_devices</th>\n",
       "      <td id=\"T_385a1_row3_col0\" class=\"data row3 col0\" >309.0 M</td>\n",
       "      <td id=\"T_385a1_row3_col1\" class=\"data row3 col1\" >5.5%</td>\n",
       "      <td id=\"T_385a1_row3_col2\" class=\"data row3 col2\" >328.0 M</td>\n",
       "    </tr>\n",
       "    <tr>\n",
       "      <th id=\"T_385a1_level0_row4\" class=\"row_heading level0 row4\" >northern_western_europe_unique_devices</th>\n",
       "      <td id=\"T_385a1_row4_col0\" class=\"data row4 col0\" >357.0 M</td>\n",
       "      <td id=\"T_385a1_row4_col1\" class=\"data row4 col1\" >1.3%</td>\n",
       "      <td id=\"T_385a1_row4_col2\" class=\"data row4 col2\" >385.0 M</td>\n",
       "    </tr>\n",
       "  </tbody>\n",
       "</table>\n"
      ],
      "text/plain": [
       "<pandas.io.formats.style.Styler at 0x7f4c784699f0>"
      ]
     },
     "execution_count": 17,
     "metadata": {},
     "output_type": "execute_result"
    }
   ],
   "source": [
    "core_metrics = [\n",
    "    \"unique_devices\",\n",
    "    \"south_asia_unique_devices\",\n",
    "    \"latin_america_caribbean_unique_devices\",\n",
    "    \"north_america_unique_devices\",\n",
    "    \"northern_western_europe_unique_devices\"\n",
    "]\n",
    "\n",
    "(\n",
    "    quarterly_averages\n",
    "    .reindex(core_metrics, axis=\"columns\")\n",
    "    .apply(utils.calc_rpt, reporting_period=quarter_to_report)\n",
    "    .transpose()\n",
    "    .pipe(utils.format_report, metrics_type=\"core\", reporting_period=quarter_to_report)\n",
    ")"
   ]
  },
  {
   "cell_type": "code",
   "execution_count": 5,
   "id": "cfeb6d8c-5678-4775-9b7d-a40cbfdda8b2",
   "metadata": {},
   "outputs": [
    {
     "data": {
      "text/html": [
       "<style type=\"text/css\">\n",
       "#T_aae97 th.col_heading.level0 {\n",
       "  font-size: 1.5em;\n",
       "  text-align: center;\n",
       "  font-weight: bold;\n",
       "}\n",
       "</style>\n",
       "<table id=\"T_aae97\">\n",
       "  <thead>\n",
       "    <tr>\n",
       "      <th class=\"blank level0\" >&nbsp;</th>\n",
       "      <th id=\"T_aae97_level0_col0\" class=\"col_heading level0 col0\" colspan=\"2\">2024Q1 content gap metrics metrics</th>\n",
       "    </tr>\n",
       "    <tr>\n",
       "      <th class=\"blank level1\" >&nbsp;</th>\n",
       "      <th id=\"T_aae97_level1_col0\" class=\"col_heading level1 col0\" >value</th>\n",
       "      <th id=\"T_aae97_level1_col1\" class=\"col_heading level1 col1\" >naive forecast</th>\n",
       "    </tr>\n",
       "  </thead>\n",
       "  <tbody>\n",
       "    <tr>\n",
       "      <th id=\"T_aae97_level0_row0\" class=\"row_heading level0 row0\" >% of new articles about underrepresented regions</th>\n",
       "      <td id=\"T_aae97_row0_col0\" class=\"data row0 col0\" >34.3%</td>\n",
       "      <td id=\"T_aae97_row0_col1\" class=\"data row0 col1\" >36.0%</td>\n",
       "    </tr>\n",
       "    <tr>\n",
       "      <th id=\"T_aae97_level0_row1\" class=\"row_heading level0 row1\" >% of new articles about gender minorities</th>\n",
       "      <td id=\"T_aae97_row1_col0\" class=\"data row1 col0\" >24.2%</td>\n",
       "      <td id=\"T_aae97_row1_col1\" class=\"data row1 col1\" >20.8%</td>\n",
       "    </tr>\n",
       "  </tbody>\n",
       "</table>\n"
      ],
      "text/plain": [
       "<pandas.io.formats.style.Styler at 0x7f94f3e2c100>"
      ]
     },
     "execution_count": 5,
     "metadata": {},
     "output_type": "execute_result"
    }
   ],
   "source": [
    "#     \"\"\"\n",
    "#    The quarterly metrics for the content gap data is calculated as the average Month over Month change in new articles, for each category in\n",
    "#    the regional/gender data, as a proportion of the average new articles. The naive forecast is calculated as the rate of change\n",
    "#    from the same quarter last year to the subsequent quarter multiplied by the current quarter's metric.  \n",
    "#    If data is unavailable for any months of a quarter, then the average of the available months is calculated.\n",
    "   \n",
    "#     \"\"\"\n",
    "\n",
    "minorities = [\n",
    "    \"underrepresented_regions_net_new_articles_sum\", \n",
    "    \"gender_minorities_net_new_articles_sum\"\n",
    "]\n",
    "\n",
    "totals = [\n",
    "    \"all_regions_net_new_articles_sum\",\n",
    "    \"all_genders_net_new_articles_sum\"\n",
    "]\n",
    "\n",
    "index_names = [\n",
    "    '% of new articles about underrepresented regions', \n",
    "    '% of new articles about gender minorities'\n",
    "]\n",
    "\n",
    "#  Checks if data for the final month of current quarter is missing so anyone running this notebook\n",
    "#  knows that average was calculated using the available months. This will have to be re-run once the current month's data \n",
    "#  becomes availble to get the average of the complete month.\n",
    "quarterly_averages = content.check_for_incomplete_quarterly_data(metrics,new_index)\n",
    "\n",
    "(\n",
    "    quarterly_averages\n",
    "    .pipe(content.calc_content_rpt, quarter_to_report, minorities, totals, index_names)\n",
    "    .transpose()\n",
    "    .pipe(utils.format_report, metrics_type=\"content gap metrics\", reporting_period=quarter_to_report)\n",
    ")"
   ]
  },
  {
   "cell_type": "code",
   "execution_count": null,
   "id": "e74006f3-ce72-40a1-8da6-59f47c47e620",
   "metadata": {},
   "outputs": [],
   "source": []
  }
 ],
 "metadata": {
  "kernelspec": {
   "display_name": "Python 3 (ipykernel)",
   "language": "python",
   "name": "python3"
  },
  "language_info": {
   "codemirror_mode": {
    "name": "ipython",
    "version": 3
   },
   "file_extension": ".py",
   "mimetype": "text/x-python",
   "name": "python",
   "nbconvert_exporter": "python",
   "pygments_lexer": "ipython3",
   "version": "3.10.8"
  }
 },
 "nbformat": 4,
 "nbformat_minor": 5
}
